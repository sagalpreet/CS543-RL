{
 "cells": [
  {
   "cell_type": "markdown",
   "id": "opening-thursday",
   "metadata": {},
   "source": [
    "# Question 1"
   ]
  },
  {
   "cell_type": "markdown",
   "id": "academic-symposium",
   "metadata": {},
   "source": [
    "### Value Iteration Setup"
   ]
  },
  {
   "cell_type": "code",
   "execution_count": 1,
   "id": "posted-program",
   "metadata": {},
   "outputs": [],
   "source": [
    "# importing dependencies\n",
    "\n",
    "import gym\n",
    "import numpy as np\n",
    "import time\n",
    "%matplotlib inline\n",
    "import matplotlib.pyplot as plt\n",
    "np.random.seed(0)"
   ]
  },
  {
   "cell_type": "code",
   "execution_count": 2,
   "id": "communist-carry",
   "metadata": {},
   "outputs": [],
   "source": [
    "# function for value iteration\n",
    "\n",
    "def value_iteration(env, gamma, eps = 1e-12):\n",
    "    elapsed = time.time()\n",
    "    num_states = env.nS\n",
    "    transition = env.env.P\n",
    "    value_function = np.zeros(num_states)\n",
    "    num_iterations = 0\n",
    "    \n",
    "    delta = float('inf')\n",
    "    while (delta >= eps):\n",
    "        num_iterations += 1\n",
    "        delta = 0\n",
    "        for state in range(num_states):\n",
    "            prev_value = value_function[state]\n",
    "            for action in transition[state]:\n",
    "                updated_value = 0\n",
    "                for prob, next_state, reward, is_terminal in transition[state][action]:\n",
    "                    updated_value += prob * (reward + gamma * value_function[next_state])\n",
    "                value_function[state] = max(value_function[state], updated_value)\n",
    "            delta = max(delta, abs(value_function[state] - prev_value))\n",
    "    \n",
    "    policy = np.zeros(num_states)\n",
    "    for state in range(num_states):\n",
    "        val = float('-inf')\n",
    "        for action in transition[state]:\n",
    "            return_val = 0\n",
    "            for prob, next_state, reward, is_terminal in transition[state][action]:\n",
    "                    return_val += prob * (reward + gamma * value_function[next_state])\n",
    "            if (return_val > val):\n",
    "                val = return_val\n",
    "                policy[state] = action\n",
    "    elapsed = time.time() - elapsed\n",
    "    return value_function, policy, num_iterations, elapsed"
   ]
  },
  {
   "cell_type": "markdown",
   "id": "opponent-festival",
   "metadata": {},
   "source": [
    "### Value Iteration on Frozen Lake environment and storing results"
   ]
  },
  {
   "cell_type": "code",
   "execution_count": 3,
   "id": "superior-advertising",
   "metadata": {},
   "outputs": [],
   "source": [
    "# setting up environment\n",
    "# running value iteration for different values of gamma and storing them in a dictionary\n",
    "\n",
    "env = gym.make('FrozenLake8x8-v0')\n",
    "results_fl = {}\n",
    "start_fl = env.env.s\n",
    "\n",
    "for gamma in [0.1, 0.3, 0.5, 0.7, 0.99]:\n",
    "    value_function, policy, num_iterations, elapsed_time = value_iteration(env, gamma)\n",
    "    results_fl[gamma] = {'value_function': value_function, 'policy': policy, 'num_iterations': num_iterations, 'time': elapsed_time}"
   ]
  },
  {
   "cell_type": "markdown",
   "id": "professional-consensus",
   "metadata": {},
   "source": [
    "### Value Iteration on Taxi environment and storing results"
   ]
  },
  {
   "cell_type": "code",
   "execution_count": 4,
   "id": "scheduled-bumper",
   "metadata": {},
   "outputs": [],
   "source": [
    "# setting up environment\n",
    "# running value iteration for different values of gamma and storing them in a dictionary\n",
    "\n",
    "env = gym.make('Taxi-v3')\n",
    "results_taxi = {}\n",
    "start_taxi = env.env.s\n",
    "\n",
    "for gamma in [0.1, 0.3, 0.5, 0.7, 0.99]:\n",
    "    value_function, policy, num_iterations, elapsed_time = value_iteration(env, gamma)\n",
    "    results_taxi[gamma] = {'value_function': value_function, 'policy': policy, 'num_iterations': num_iterations, 'time': elapsed_time}"
   ]
  },
  {
   "cell_type": "markdown",
   "id": "lesbian-cream",
   "metadata": {},
   "source": [
    "\n",
    "\n",
    "### Functions to display results"
   ]
  },
  {
   "cell_type": "code",
   "execution_count": 5,
   "id": "joined-alexander",
   "metadata": {},
   "outputs": [],
   "source": [
    "def print_result_FrozenLake(results, gamma):\n",
    "    \n",
    "    print(f'\\ngamma: {gamma}\\n')\n",
    "    \n",
    "    value_function = results[gamma]['value_function']\n",
    "    policy = results[gamma]['policy']\n",
    "    num_iterations = results[gamma]['num_iterations']\n",
    "    \n",
    "    \n",
    "    print(\"Value Function:\")\n",
    "    for i in range(8):\n",
    "        for j in range(8):\n",
    "            print(format(value_function[8*i+j], '.2f'), end = ' ')\n",
    "        print()\n",
    "    print()\n",
    "    \n",
    "    print(\"Policy:\")\n",
    "    mapping = {0: 'L', 1: 'U', 2: 'R', 3: 'D'}\n",
    "    for i in range(8):\n",
    "        for j in range(8):\n",
    "            print(f' {mapping[policy[8*i+j]]}  ', end = ' ')\n",
    "        print()\n",
    "    print()\n",
    "    \n",
    "    print(f'Number of Iterations: {num_iterations}')\n",
    "    print('-------------------------------------------------------------')"
   ]
  },
  {
   "cell_type": "code",
   "execution_count": 6,
   "id": "powerful-florist",
   "metadata": {},
   "outputs": [],
   "source": [
    "def plot_gamma_iterations(**kwargs):\n",
    "    \n",
    "    num_plots = len(kwargs)\n",
    "    fig, axs = plt.subplots(1, num_plots+1)\n",
    "    plot_cnt = 0\n",
    "    \n",
    "    for label in kwargs:\n",
    "        results = kwargs[label]\n",
    "        x, y = [], []\n",
    "        for gamma in results:\n",
    "            x.append(gamma)\n",
    "            y.append(results[gamma]['num_iterations'])\n",
    "        axs[plot_cnt].plot(x, y, label = label)\n",
    "        axs[plot_cnt].set_title(label)\n",
    "        axs[plot_cnt].legend()\n",
    "        plot_cnt += 1\n",
    "        if (num_plots > 1):\n",
    "            axs[num_plots].plot(x, y, label = label)\n",
    "    if (num_plots > 1):\n",
    "        axs[num_plots].set_title(\"Combined\")\n",
    "        axs[num_plots].legend()\n",
    "    fig.tight_layout()"
   ]
  },
  {
   "cell_type": "code",
   "execution_count": 7,
   "id": "naval-reliance",
   "metadata": {},
   "outputs": [],
   "source": [
    "def plot_gamma_value(**kwargs):\n",
    "    \n",
    "    num_plots = len(kwargs)\n",
    "    fig, axs = plt.subplots(1, num_plots+1)\n",
    "    plot_cnt = 0\n",
    "    \n",
    "    for label in kwargs:\n",
    "        results, start = kwargs[label]\n",
    "        x, y = [], []\n",
    "        for gamma in results:\n",
    "            x.append(gamma)\n",
    "            #y.append(results[gamma]['value_function'][start])\n",
    "            y.append(max(results[gamma]['value_function']))\n",
    "        axs[plot_cnt].plot(x, y, label = label)\n",
    "        axs[plot_cnt].set_title(label)\n",
    "        axs[plot_cnt].legend()\n",
    "        plot_cnt += 1\n",
    "        if (num_plots > 1):\n",
    "            axs[num_plots].plot(x, y, label = label)\n",
    "    if (num_plots > 1):\n",
    "        axs[num_plots].set_title(\"Combined\")\n",
    "        axs[num_plots].legend()\n",
    "    fig.tight_layout()"
   ]
  },
  {
   "cell_type": "code",
   "execution_count": null,
   "id": "robust-coral",
   "metadata": {},
   "outputs": [],
   "source": []
  },
  {
   "cell_type": "markdown",
   "id": "amended-tonight",
   "metadata": {},
   "source": [
    "### Number of Iterations v/s Gamma Plot"
   ]
  },
  {
   "cell_type": "code",
   "execution_count": 8,
   "id": "persistent-parts",
   "metadata": {
    "scrolled": false
   },
   "outputs": [
    {
     "data": {
      "image/png": "[encoded data removed]",
      "text/plain": [
       "<Figure size 432x288 with 3 Axes>"
      ]
     },
     "metadata": {
      "needs_background": "light"
     },
     "output_type": "display_data"
    }
   ],
   "source": [
    "plot_gamma_iterations(Frozen_Lake = results_fl, Taxi = results_taxi)"
   ]
  },
  {
   "cell_type": "markdown",
   "id": "temporal-newfoundland",
   "metadata": {},
   "source": []
  },
  {
   "cell_type": "markdown",
   "id": "sharp-colombia",
   "metadata": {},
   "source": [
    "### State Value of start state v/s Gamma Plot\n",
    "```\n",
    "y-axis has:\n",
    "max norm of value function in case of taxi\n",
    "value function of start state (0) in case of frozen_lake\n",
    "```"
   ]
  },
  {
   "cell_type": "code",
   "execution_count": 9,
   "id": "center-claim",
   "metadata": {},
   "outputs": [
    {
     "data": {
      "image/png": "[encoded data removed]",
      "text/plain": [
       "<Figure size 432x288 with 3 Axes>"
      ]
     },
     "metadata": {
      "needs_background": "light"
     },
     "output_type": "display_data"
    }
   ],
   "source": [
    "plot_gamma_value(Frozen_Lake = (results_fl, start_fl), Taxi = (results_taxi, start_taxi))"
   ]
  },
  {
   "cell_type": "markdown",
   "id": "european-monroe",
   "metadata": {},
   "source": [
    "### Observations\n"
   ]
  },
  {
   "cell_type": "markdown",
   "id": "quantitative-serial",
   "metadata": {},
   "source": []
  },
  {
   "cell_type": "markdown",
   "id": "overall-experiment",
   "metadata": {},
   "source": [
    "# Question 2"
   ]
  },
  {
   "cell_type": "markdown",
   "id": "departmental-kingston",
   "metadata": {},
   "source": [
    "### Policy Iteration Setup"
   ]
  },
  {
   "cell_type": "code",
   "execution_count": 10,
   "id": "pressed-programming",
   "metadata": {},
   "outputs": [],
   "source": [
    "# function for policy iteration\n",
    "\n",
    "def policy_iteration(env, gamma, eps = 1e-12):\n",
    "    elapsed = time.time()\n",
    "    num_states = env.nS\n",
    "    transition = env.env.P    \n",
    "    \n",
    "    policy = [np.random.choice(list(transition[state].keys())) for state in range(num_states)]\n",
    "    value_function = np.zeros(num_states)#\n",
    "    \n",
    "    def policy_evaluation():\n",
    "        #value_function = np.zeros(num_states)\n",
    "        num_iterations = 0\n",
    "        \n",
    "        while (True):\n",
    "            num_iterations += 1\n",
    "            delta = float('-inf')\n",
    "            #value_function_ = np.zeros(num_states)\n",
    "\n",
    "            for state in range(num_states):\n",
    "                prev_value = value_function[state]#\n",
    "                action = policy[state]\n",
    "                updated_value = 0\n",
    "                for prob, next_state, reward, is_terminal in transition[state][action]:\n",
    "                    updated_value += prob * (reward + gamma * value_function[next_state])\n",
    "                #value_function_[state] = max(value_function[state], updated_value)\n",
    "                #delta = max(delta, abs(value_function_[state] - value_function[state]))\n",
    "                value_function[state] = max(value_function[state], updated_value)#\n",
    "                delta = max(delta, abs(value_function[state] - prev_value))#\n",
    "                   \n",
    "            #value_function = value_function_.copy()\n",
    "            if (delta < eps):\n",
    "                break\n",
    "        return value_function, num_iterations\n",
    "    \n",
    "    def policy_improvement(value_function):\n",
    "        has_converged = True\n",
    "        for state in range(num_states):\n",
    "            prev_action = policy[state]\n",
    "            max_return = float('-inf')\n",
    "            best_action = -1\n",
    "            for action in transition[state]:\n",
    "                returns = 0\n",
    "                for prob, next_state, reward, is_terminal in transition[state][action]:\n",
    "                    returns += prob * (reward + gamma * value_function[next_state])\n",
    "                if (returns > max_return or (returns == max_return and action == prev_action)):\n",
    "                    max_return, best_action = returns, action\n",
    "            if (best_action != prev_action):\n",
    "                has_converged = False\n",
    "            \n",
    "            policy[state] = best_action\n",
    "        return has_converged\n",
    "    \n",
    "    num_iterations = 0\n",
    "    while (True):\n",
    "        value_function, iterations = policy_evaluation()\n",
    "        num_iterations += iterations\n",
    "        has_converged = policy_improvement(value_function)\n",
    "        if (has_converged):\n",
    "            break\n",
    "    \n",
    "    elapsed = time.time() - elapsed\n",
    "    return value_function, policy, num_iterations, elapsed\n",
    "    "
   ]
  },
  {
   "cell_type": "markdown",
   "id": "distributed-bobby",
   "metadata": {},
   "source": [
    "### Policy Iteration on Frozen Lake environment and storing results"
   ]
  },
  {
   "cell_type": "code",
   "execution_count": 11,
   "id": "virgin-panama",
   "metadata": {},
   "outputs": [],
   "source": [
    "# setting up environment\n",
    "# running value iteration for different values of gamma and storing them in a dictionary\n",
    "\n",
    "env = gym.make('FrozenLake8x8-v0')\n",
    "results_fl = {}\n",
    "start_fl = env.env.s\n",
    "\n",
    "for gamma in [0.1, 0.3, 0.5, 0.7, 0.99]:\n",
    "    value_function, policy, num_iterations, elapsed_time = policy_iteration(env, gamma)\n",
    "    results_fl[gamma] = {'value_function': value_function, 'policy': policy, 'num_iterations': num_iterations, 'time': elapsed_time}"
   ]
  },
  {
   "cell_type": "markdown",
   "id": "anonymous-rebate",
   "metadata": {},
   "source": [
    "### Policy Iteration on Taxi environment and storing results"
   ]
  },
  {
   "cell_type": "code",
   "execution_count": 12,
   "id": "stupid-folks",
   "metadata": {},
   "outputs": [],
   "source": [
    "# setting up environment\n",
    "# running value iteration for different values of gamma and storing them in a dictionary\n",
    "\n",
    "env = gym.make('Taxi-v3')\n",
    "results_taxi = {}\n",
    "start_taxi = env.env.s\n",
    "\n",
    "for gamma in [0.1, 0.3, 0.5, 0.7, 0.99]:\n",
    "    value_function, policy, num_iterations, elapsed_time = policy_iteration(env, gamma)\n",
    "    results_taxi[gamma] = {'value_function': value_function, 'policy': policy, 'num_iterations': num_iterations, 'time': elapsed_time}"
   ]
  },
  {
   "cell_type": "markdown",
   "id": "swedish-chick",
   "metadata": {},
   "source": [
    "### Number of Iterations v/s Gamma Plot"
   ]
  },
  {
   "cell_type": "code",
   "execution_count": 13,
   "id": "reverse-maine",
   "metadata": {},
   "outputs": [
    {
     "data": {
      "image/png": "[encoded data removed]",
      "text/plain": [
       "<Figure size 432x288 with 3 Axes>"
      ]
     },
     "metadata": {
      "needs_background": "light"
     },
     "output_type": "display_data"
    }
   ],
   "source": [
    "plot_gamma_iterations(Frozen_Lake = results_fl, Taxi = results_taxi)"
   ]
  },
  {
   "cell_type": "markdown",
   "id": "protective-filter",
   "metadata": {},
   "source": [
    "### Value of start state v/s Gamma Plot\n",
    "```\n",
    "y-axis has:\n",
    "max norm of value function in case of taxi\n",
    "value function of start state (0) in case of frozen_lake\n",
    "```"
   ]
  },
  {
   "cell_type": "code",
   "execution_count": 14,
   "id": "awful-microwave",
   "metadata": {},
   "outputs": [
    {
     "data": {
      "image/png": "[encoded data removed]",
      "text/plain": [
       "<Figure size 432x288 with 3 Axes>"
      ]
     },
     "metadata": {
      "needs_background": "light"
     },
     "output_type": "display_data"
    }
   ],
   "source": [
    "plot_gamma_value(Frozen_Lake = (results_fl, start_fl), Taxi = (results_taxi, start_taxi))"
   ]
  },
  {
   "cell_type": "markdown",
   "id": "eleven-venezuela",
   "metadata": {},
   "source": [
    "### Observations"
   ]
  },
  {
   "cell_type": "code",
   "execution_count": null,
   "id": "opposed-benefit",
   "metadata": {},
   "outputs": [],
   "source": []
  },
  {
   "cell_type": "markdown",
   "id": "featured-toner",
   "metadata": {},
   "source": [
    "# Question 3"
   ]
  },
  {
   "cell_type": "markdown",
   "id": "convertible-sigma",
   "metadata": {},
   "source": [
    "*Value Iteration* uses **less number of iterations** than *Policy Iteration* but is overall **slower (takes more time)** as it involves argmax over all possible actions in each state which makes every iteration of *Value Iteration* more expensive as compared to that of *policy iteration*.\n",
    "\n",
    "Following are the statistics for the number of iterations taken:\n",
    "*(for epsilon = 1e-12)*\n",
    "\n",
    "| | Number of Iterations | |\n",
    "| :-: | :-: | :-: |\n",
    "| Environment | Value Iteration | Policy Iteration |\n",
    "| Frozen_Lake | 500 | 1600 |\n",
    "| Taxi | 1600 | 3000 |\n",
    "\n",
    "\n",
    "| | Time taken | |\n",
    "| :-: | :-: | :-: |\n",
    "| Environment | Value Iteration | Policy Iteration |\n",
    "| Frozen_Lake | 0.49 | 0.45 |\n",
    "| Taxi | 10 | 5 |\n",
    "\n",
    "The reason as to why value iteration takes less number of iterations is:\n",
    "It combines the policy evaluation and policy improvement step by making updates to the value function directly, hence the faster convergence.\n",
    "\n",
    "The reason as to why value iteration still takes more time is:\n",
    "It involves argmax over all possible actions in each state which makes every iteration of *Value Iteration* more expensive as compared to that of *Policy Iteration* and hence greater execution time.\n"
   ]
  },
  {
   "cell_type": "code",
   "execution_count": null,
   "id": "respected-louisiana",
   "metadata": {},
   "outputs": [],
   "source": []
  }
 ],
 "metadata": {
  "kernelspec": {
   "display_name": "Python 3.8.5 64-bit",
   "language": "python",
   "name": "python38564bit83331925f92c4b3796ee4acb16036a44"
  },
  "language_info": {
   "codemirror_mode": {
    "name": "ipython",
    "version": 3
   },
   "file_extension": ".py",
   "mimetype": "text/x-python",
   "name": "python",
   "nbconvert_exporter": "python",
   "pygments_lexer": "ipython3",
   "version": "3.8.10"
  }
 },
 "nbformat": 4,
 "nbformat_minor": 5
}
